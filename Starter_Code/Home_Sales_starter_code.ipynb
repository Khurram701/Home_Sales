{
  "cells": [
    {
      "cell_type": "code",
      "execution_count": 1,
      "metadata": {
        "colab": {
          "base_uri": "https://localhost:8080/"
        },
        "id": "tjYmHdvs1D_N",
        "outputId": "aed4f305-6227-4687-ee16-85485752de9e"
      },
      "outputs": [
        {
          "name": "stdout",
          "output_type": "stream",
          "text": [
            "Collecting findspark\n",
            "  Downloading findspark-2.0.1-py2.py3-none-any.whl (4.4 kB)\n",
            "Installing collected packages: findspark\n",
            "Successfully installed findspark-2.0.1\n"
          ]
        }
      ],
      "source": [
        "pip install findspark"
      ]
    },
    {
      "cell_type": "code",
      "execution_count": 2,
      "metadata": {
        "colab": {
          "base_uri": "https://localhost:8080/"
        },
        "id": "TbeI-mbu0yEt",
        "outputId": "4c883c72-206e-4fab-da14-f4c5b1c692aa"
      },
      "outputs": [
        {
          "name": "stdout",
          "output_type": "stream",
          "text": [
            "Collecting pyspark\n",
            "  Downloading pyspark-3.4.1.tar.gz (310.8 MB)\n",
            "\u001b[2K     \u001b[90m━━━━━━━━━━━━━━━━━━━━━━━━━━━━━━━━━━━━━━━\u001b[0m \u001b[32m310.8/310.8 MB\u001b[0m \u001b[31m4.5 MB/s\u001b[0m eta \u001b[36m0:00:00\u001b[0m\n",
            "\u001b[?25h  Preparing metadata (setup.py) ... \u001b[?25l\u001b[?25hdone\n",
            "Requirement already satisfied: py4j==0.10.9.7 in /usr/local/lib/python3.10/dist-packages (from pyspark) (0.10.9.7)\n",
            "Building wheels for collected packages: pyspark\n",
            "  Building wheel for pyspark (setup.py) ... \u001b[?25l\u001b[?25hdone\n",
            "  Created wheel for pyspark: filename=pyspark-3.4.1-py2.py3-none-any.whl size=311285397 sha256=1a1110c51ea8bbace8fb6c5ae37b4965ba557973dc8fa34f7d48fddf3c053bfd\n",
            "  Stored in directory: /root/.cache/pip/wheels/0d/77/a3/ff2f74cc9ab41f8f594dabf0579c2a7c6de920d584206e0834\n",
            "Successfully built pyspark\n",
            "Installing collected packages: pyspark\n",
            "Successfully installed pyspark-3.4.1\n"
          ]
        }
      ],
      "source": [
        "!pip install pyspark"
      ]
    },
    {
      "cell_type": "code",
      "execution_count": 3,
      "metadata": {
        "id": "a_KW73O2e3dw"
      },
      "outputs": [],
      "source": [
        "# Import findspark and initialize.\n",
        "import findspark\n",
        "findspark.init()"
      ]
    },
    {
      "cell_type": "code",
      "execution_count": 4,
      "metadata": {
        "id": "2XbWNf1Te5fM"
      },
      "outputs": [],
      "source": [
        "# Import packages\n",
        "from pyspark.sql import SparkSession\n",
        "import time\n",
        "\n",
        "# Create a SparkSessionl\n",
        "spark = SparkSession.builder.appName(\"SparkSQL\").getOrCreate()"
      ]
    },
    {
      "cell_type": "code",
      "execution_count": 5,
      "metadata": {
        "colab": {
          "base_uri": "https://localhost:8080/"
        },
        "id": "wOJqxG_RPSwp",
        "outputId": "b2b0485c-3839-41ec-d514-1d667d2bcfa2"
      },
      "outputs": [
        {
          "name": "stdout",
          "output_type": "stream",
          "text": [
            "+--------------------+----------+----------+------+--------+---------+-----------+--------+------+----------+----+\n",
            "|                  id|      date|date_built| price|bedrooms|bathrooms|sqft_living|sqft_lot|floors|waterfront|view|\n",
            "+--------------------+----------+----------+------+--------+---------+-----------+--------+------+----------+----+\n",
            "|f8a53099-ba1c-47d...|2022-04-08|      2016|936923|       4|        3|       3167|   11733|     2|         1|  76|\n",
            "|7530a2d8-1ae3-451...|2021-06-13|      2013|379628|       2|        2|       2235|   14384|     1|         0|  23|\n",
            "|43de979c-0bf0-4c9...|2019-04-12|      2014|417866|       2|        2|       2127|   10575|     2|         0|   0|\n",
            "|b672c137-b88c-48b...|2019-10-16|      2016|239895|       2|        2|       1631|   11149|     2|         0|   0|\n",
            "|e0726d4d-d595-407...|2022-01-08|      2017|424418|       3|        2|       2249|   13878|     2|         0|   4|\n",
            "|5aa00529-0533-46b...|2019-01-30|      2017|218712|       2|        3|       1965|   14375|     2|         0|   7|\n",
            "|131492a1-72e2-4a8...|2020-02-08|      2017|419199|       2|        3|       2062|    8876|     2|         0|   6|\n",
            "|8d54a71b-c520-44e...|2019-07-21|      2010|323956|       2|        3|       1506|   11816|     1|         0|  25|\n",
            "|e81aacfe-17fe-46b...|2020-06-16|      2016|181925|       3|        3|       2137|   11709|     2|         0|  22|\n",
            "|2ed8d509-7372-46d...|2021-08-06|      2015|258710|       3|        3|       1918|    9666|     1|         0|  25|\n",
            "|f876d86f-3c9f-42b...|2019-02-27|      2011|167864|       3|        3|       2471|   13924|     2|         0|  15|\n",
            "|0a2bd445-8508-4d8...|2021-12-30|      2014|337527|       2|        3|       1926|   12556|     1|         0|  23|\n",
            "|941bad30-eb49-4a7...|2020-05-09|      2015|229896|       3|        3|       2197|    8641|     1|         0|   3|\n",
            "|dd61eb34-6589-4c0...|2021-07-25|      2016|210247|       3|        2|       1672|   11986|     2|         0|  28|\n",
            "|f1e4cef7-d151-439...|2019-02-01|      2011|398667|       2|        3|       2331|   11356|     1|         0|   7|\n",
            "|ea620c7b-c2f7-4c6...|2021-05-31|      2011|437958|       3|        3|       2356|   11052|     1|         0|  26|\n",
            "|f233cb41-6f33-4b0...|2021-07-18|      2016|437375|       4|        3|       1704|   11721|     2|         0|  34|\n",
            "|c797ca12-52cd-4b1...|2019-06-08|      2015|288650|       2|        3|       2100|   10419|     2|         0|   7|\n",
            "|0cfe57f3-28c2-472...|2019-10-04|      2015|308313|       3|        3|       1960|    9453|     2|         0|   2|\n",
            "|4566cd2a-ac6e-435...|2019-07-15|      2016|177541|       3|        3|       2130|   10517|     2|         0|  25|\n",
            "+--------------------+----------+----------+------+--------+---------+-----------+--------+------+----------+----+\n",
            "only showing top 20 rows\n",
            "\n"
          ]
        }
      ],
      "source": [
        "# 1. Read in the AWS S3 bucket into a DataFrame.\n",
        "# from pyspark import SparkFiles\n",
        "# url = \"https://2u-data-curriculum-team.s3.amazonaws.com/dataviz-classroom/v1.2/22-big-data/home_sales_revised.csv\"\n",
        "\n",
        "import os\n",
        "import urllib\n",
        "from pyspark.sql import SparkSession\n",
        "\n",
        "# URL of the CSV file\n",
        "url = \"https://2u-data-curriculum-team.s3.amazonaws.com/dataviz-classroom/v1.2/22-big-data/home_sales_revised.csv\"\n",
        "\n",
        "# Local file path where the data will be downloaded\n",
        "local_directory = \"/path/to/your/local/folder\"\n",
        "local_file_path = os.path.join(local_directory, \"home_sales_revised.csv\")\n",
        "\n",
        "# Create the local directory if it does not exist\n",
        "if not os.path.exists(local_directory):\n",
        "    os.makedirs(local_directory)\n",
        "\n",
        "# Download the file using urllib\n",
        "urllib.request.urlretrieve(url, local_file_path)\n",
        "\n",
        "# Create a SparkSession\n",
        "spark = SparkSession.builder.appName(\"SparkSQL\").getOrCreate()\n",
        "\n",
        "# Read the data from the local file into a DataFrame\n",
        "df = spark.read.csv(\"file://\" + local_file_path, header=True, inferSchema=True)\n",
        "\n",
        "# Show the DataFrame\n",
        "df.show()"
      ]
    },
    {
      "cell_type": "code",
      "execution_count": 6,
      "metadata": {
        "id": "RoljcJ7WPpnm"
      },
      "outputs": [],
      "source": [
        "# 2. Create a temporary view of the DataFrame.\n",
        "\n",
        "df.createOrReplaceTempView(\"home_sales_view\")"
      ]
    },
    {
      "cell_type": "code",
      "execution_count": 7,
      "metadata": {
        "colab": {
          "base_uri": "https://localhost:8080/"
        },
        "id": "L6fkwOeOmqvq",
        "outputId": "04428e15-197c-4b11-e2ba-699f8e7d3d12"
      },
      "outputs": [
        {
          "name": "stdout",
          "output_type": "stream",
          "text": [
            "+----+-------------+\n",
            "|year|average_price|\n",
            "+----+-------------+\n",
            "|2019|     300263.7|\n",
            "|2020|    298353.78|\n",
            "|2021|    301819.44|\n",
            "|2022|    296363.88|\n",
            "+----+-------------+\n",
            "\n"
          ]
        }
      ],
      "source": [
        "# 3. What is the average price for a four bedroom house sold in each year rounded to two decimal places?\n",
        "# Assuming you already have the DataFrame 'df' created from the previous code\n",
        "\n",
        "from pyspark.sql import SparkSession\n",
        "from pyspark.sql.functions import round\n",
        "\n",
        "# Create a SparkSession\n",
        "spark = SparkSession.builder.appName(\"AveragePrice\").getOrCreate()\n",
        "\n",
        "# Create a temporary view for the DataFrame\n",
        "df.createOrReplaceTempView(\"home_sales_view\")\n",
        "\n",
        "# SQL query to calculate average price for a four-bedroom house sold in each year\n",
        "query = \"\"\"\n",
        "SELECT YEAR(date) as year, ROUND(AVG(price), 2) as average_price\n",
        "FROM home_sales_view\n",
        "WHERE bedrooms = 4\n",
        "GROUP BY YEAR(date)\n",
        "ORDER BY year\n",
        "\"\"\"\n",
        "\n",
        "# Execute the query and store the results in a new DataFrame\n",
        "result_df = spark.sql(query)\n",
        "\n",
        "# Show the results\n",
        "result_df.show()\n",
        "\n"
      ]
    },
    {
      "cell_type": "code",
      "execution_count": 8,
      "metadata": {
        "colab": {
          "base_uri": "https://localhost:8080/"
        },
        "id": "l8p_tUS8h8it",
        "outputId": "67a8bd59-9e64-49d6-92c9-98829e8391f8"
      },
      "outputs": [
        {
          "name": "stdout",
          "output_type": "stream",
          "text": [
            "+----------+-------------+\n",
            "|year_built|average_price|\n",
            "+----------+-------------+\n",
            "|      2010|    292859.62|\n",
            "|      2011|    291117.47|\n",
            "|      2012|    293683.19|\n",
            "|      2013|    295962.27|\n",
            "|      2014|    290852.27|\n",
            "|      2015|     288770.3|\n",
            "|      2016|    290555.07|\n",
            "|      2017|    292676.79|\n",
            "+----------+-------------+\n",
            "\n"
          ]
        }
      ],
      "source": [
        "# 4. What is the average price of a home for each year the home was built that have 3 bedrooms and 3 bathrooms rounded to two decimal places?\n",
        "# Assuming you already have the DataFrame 'df' created from the previous code\n",
        "\n",
        "from pyspark.sql import SparkSession\n",
        "from pyspark.sql.functions import round\n",
        "\n",
        "# Create a SparkSession\n",
        "spark = SparkSession.builder.appName(\"AveragePriceByYearBuilt\").getOrCreate()\n",
        "\n",
        "# Create a temporary view for the DataFrame\n",
        "df.createOrReplaceTempView(\"home_sales_view\")\n",
        "\n",
        "# SQL query to calculate average price for homes with 3 bedrooms and 3 bathrooms by year built\n",
        "query = \"\"\"\n",
        "SELECT date_built as year_built, ROUND(AVG(price), 2) as average_price\n",
        "FROM home_sales_view\n",
        "WHERE bedrooms = 3 AND bathrooms = 3\n",
        "GROUP BY date_built\n",
        "ORDER BY date_built\n",
        "\"\"\"\n",
        "\n",
        "# Execute the query and store the results in a new DataFrame\n",
        "result_df = spark.sql(query)\n",
        "\n",
        "# Show the results\n",
        "result_df.show()\n",
        "\n"
      ]
    },
    {
      "cell_type": "code",
      "execution_count": 9,
      "metadata": {
        "colab": {
          "base_uri": "https://localhost:8080/"
        },
        "id": "Y-Eytz64liDU",
        "outputId": "3d3859ac-c648-49eb-d68d-3f4a098730c3"
      },
      "outputs": [
        {
          "name": "stdout",
          "output_type": "stream",
          "text": [
            "+----------+-------------+\n",
            "|year_built|average_price|\n",
            "+----------+-------------+\n",
            "|      2010|    285010.22|\n",
            "|      2011|    276553.81|\n",
            "|      2012|    307539.97|\n",
            "|      2013|    303676.79|\n",
            "|      2014|    298264.72|\n",
            "|      2015|    297609.97|\n",
            "|      2016|     293965.1|\n",
            "|      2017|    280317.58|\n",
            "+----------+-------------+\n",
            "\n"
          ]
        }
      ],
      "source": [
        "#  5. What is the average price of a home for each year built that have 3 bedrooms, 3 bathrooms, with two floors,\n",
        "# and are greater than or equal to 2,000 square feet rounded to two decimal places?\n",
        "\n",
        "# Assuming you already have the DataFrame 'df' created from the previous code\n",
        "\n",
        "from pyspark.sql import SparkSession\n",
        "from pyspark.sql.functions import round\n",
        "\n",
        "# Create a SparkSession\n",
        "spark = SparkSession.builder.appName(\"AveragePriceByYearBuilt\").getOrCreate()\n",
        "\n",
        "# Create a temporary view for the DataFrame\n",
        "df.createOrReplaceTempView(\"home_sales_view\")\n",
        "\n",
        "# SQL query to calculate average price for homes with 3 bedrooms, 3 bathrooms, two floors,\n",
        "# and are greater than or equal to 2,000 square feet, by year built\n",
        "query = \"\"\"\n",
        "SELECT date_built as year_built, ROUND(AVG(price), 2) as average_price\n",
        "FROM home_sales_view\n",
        "WHERE bedrooms = 3 AND bathrooms = 3 AND floors = 2 AND sqft_living >= 2000\n",
        "GROUP BY date_built\n",
        "ORDER BY date_built\n",
        "\"\"\"\n",
        "\n",
        "# Execute the query and store the results in a new DataFrame\n",
        "result_df = spark.sql(query)\n",
        "\n",
        "# Show the results\n",
        "result_df.show()\n"
      ]
    },
    {
      "cell_type": "code",
      "execution_count": 10,
      "metadata": {
        "colab": {
          "base_uri": "https://localhost:8080/"
        },
        "id": "GUrfgOX1pCRd",
        "outputId": "6702156c-ce08-4cdb-a136-33d64dc8627f"
      },
      "outputs": [
        {
          "name": "stdout",
          "output_type": "stream",
          "text": [
            "View Rating for Average Price (rounded to two decimal places): 473796.26\n",
            "Query Runtime: 0.5700302124023438 seconds\n"
          ]
        }
      ],
      "source": [
        "# 6. What is the \"view\" rating for the average price of a home, rounded to two decimal places, where the homes are greater than\n",
        "# or equal to $350,000? Although this is a small dataset, determine the run time for this query.\n",
        "\n",
        "# start_time = time.time()\n",
        "\n",
        "\n",
        "\n",
        "# print(\"--- %s seconds ---\" % (time.time() - start_time))\n",
        "\n",
        "\n",
        "# Assuming you already have the DataFrame 'df' created from the previous code\n",
        "\n",
        "# Assuming you already have the DataFrame 'df' created from the previous code\n",
        "\n",
        "from pyspark.sql import SparkSession\n",
        "from pyspark.sql.functions import avg, round\n",
        "import time\n",
        "\n",
        "# Create a SparkSession\n",
        "spark = SparkSession.builder.appName(\"ViewRating\").getOrCreate()\n",
        "\n",
        "# Create a temporary view for the DataFrame\n",
        "df.createOrReplaceTempView(\"home_sales_view\")\n",
        "\n",
        "# Measure the start time of the query execution\n",
        "start_time = time.time()\n",
        "\n",
        "# SQL query to calculate average price for homes greater than or equal to $350,000\n",
        "query = \"\"\"\n",
        "SELECT ROUND(AVG(price), 2) as average_price\n",
        "FROM home_sales_view\n",
        "WHERE price >= 350000\n",
        "\"\"\"\n",
        "\n",
        "# Execute the query and store the result in a new DataFrame\n",
        "result_df = spark.sql(query)\n",
        "\n",
        "# Extract the \"average_price\" value from the DataFrame result\n",
        "view_rating = float(result_df.collect()[0][\"average_price\"])\n",
        "\n",
        "# Measure the end time of the query execution\n",
        "end_time = time.time()\n",
        "\n",
        "# Show the \"view\" rating for the average price (rounded to two decimal places)\n",
        "print(\"View Rating for Average Price (rounded to two decimal places): {:.2f}\".format(view_rating))\n",
        "\n",
        "# Calculate and display the runtime of the query\n",
        "runtime = end_time - start_time\n",
        "print(\"Query Runtime:\", runtime, \"seconds\")\n",
        "\n",
        "\n"
      ]
    },
    {
      "cell_type": "code",
      "execution_count": 11,
      "metadata": {
        "colab": {
          "base_uri": "https://localhost:8080/"
        },
        "id": "KAhk3ZD2tFy8",
        "outputId": "f2825369-5fcc-4e0f-fabb-991b424636f6"
      },
      "outputs": [
        {
          "name": "stdout",
          "output_type": "stream",
          "text": [
            "View Rating for Average Price (rounded to two decimal places): 473796.26\n",
            "Query Runtime: 2.0433547496795654 seconds\n"
          ]
        }
      ],
      "source": [
        "# 7. Cache the the temporary table home_sales.\n",
        "\n",
        "# Assuming you already have the DataFrame 'df' created from the previous code\n",
        "\n",
        "from pyspark.sql import SparkSession\n",
        "from pyspark.sql.functions import avg, round\n",
        "import time\n",
        "\n",
        "# Create a SparkSession\n",
        "spark = SparkSession.builder.appName(\"ViewRating\").getOrCreate()\n",
        "\n",
        "# Create a temporary view for the DataFrame\n",
        "df.createOrReplaceTempView(\"home_sales_view\")\n",
        "\n",
        "# Cache the temporary table\n",
        "spark.catalog.cacheTable(\"home_sales_view\")\n",
        "\n",
        "# Measure the start time of the query execution\n",
        "start_time = time.time()\n",
        "\n",
        "# SQL query to calculate average price for homes greater than or equal to $350,000\n",
        "query = \"\"\"\n",
        "SELECT ROUND(AVG(price), 2) as average_price\n",
        "FROM home_sales_view\n",
        "WHERE price >= 350000\n",
        "\"\"\"\n",
        "\n",
        "# Execute the query and store the result in a new DataFrame\n",
        "result_df = spark.sql(query)\n",
        "\n",
        "# Extract the \"average_price\" value from the DataFrame result\n",
        "view_rating = float(result_df.collect()[0][\"average_price\"])\n",
        "\n",
        "# Measure the end time of the query execution\n",
        "end_time = time.time()\n",
        "\n",
        "# Show the \"view\" rating for the average price (rounded to two decimal places)\n",
        "print(\"View Rating for Average Price (rounded to two decimal places): {:.2f}\".format(view_rating))\n",
        "\n",
        "# Calculate and display the runtime of the query\n",
        "runtime = end_time - start_time\n",
        "print(\"Query Runtime:\", runtime, \"seconds\")\n"
      ]
    },
    {
      "cell_type": "code",
      "execution_count": 12,
      "metadata": {
        "colab": {
          "base_uri": "https://localhost:8080/"
        },
        "id": "4opVhbvxtL-i",
        "outputId": "63863619-9572-441b-caff-9c7d3a901e7f"
      },
      "outputs": [
        {
          "name": "stdout",
          "output_type": "stream",
          "text": [
            "Is 'home_sales_view' cached? True\n"
          ]
        }
      ],
      "source": [
        "# 8. Check if the table is cached.\n",
        "# spark.catalog.isCached('home_sales')\n",
        "\n",
        "# Assuming you already have the DataFrame 'df' created from the previous code\n",
        "\n",
        "from pyspark.sql import SparkSession\n",
        "from pyspark.sql.functions import avg, round\n",
        "import time\n",
        "\n",
        "# Create a SparkSession\n",
        "spark = SparkSession.builder.appName(\"ViewRating\").getOrCreate()\n",
        "\n",
        "# Create a temporary view for the DataFrame\n",
        "df.createOrReplaceTempView(\"home_sales_view\")\n",
        "\n",
        "# Cache the temporary table\n",
        "spark.catalog.cacheTable(\"home_sales_view\")\n",
        "\n",
        "# Check if the table is cached\n",
        "is_cached = spark.catalog.isCached(\"home_sales_view\")\n",
        "\n",
        "# Print the result\n",
        "print(\"Is 'home_sales_view' cached?\", is_cached)\n"
      ]
    },
    {
      "cell_type": "code",
      "execution_count": 13,
      "metadata": {
        "colab": {
          "base_uri": "https://localhost:8080/"
        },
        "id": "5GnL46lwTSEk",
        "outputId": "f3212f7c-28ab-4e66-cf8a-503eeafb7a1a"
      },
      "outputs": [
        {
          "name": "stdout",
          "output_type": "stream",
          "text": [
            "View Rating for Average Price (rounded to two decimal places) with cached data: 473796.26\n",
            "Query Runtime with cached data: 0.2787609100341797 seconds\n",
            "View Rating for Average Price (rounded to two decimal places) without cached data: 473796.26\n",
            "Query Runtime without cached data: 0.22475290298461914 seconds\n"
          ]
        }
      ],
      "source": [
        "# 9. Using the cached data, run the query that filters out the view ratings with average price\n",
        "#  greater than or equal to $350,000. Determine the runtime and compare it to uncached runtime.\n",
        "\n",
        "# start_time = time.time()\n",
        "\n",
        "\n",
        "\n",
        "# print(\"--- %s seconds ---\" % (time.time() - start_time))\n",
        "\n",
        "\n",
        "# Assuming you already have the DataFrame 'df' created from the previous code\n",
        "\n",
        "from pyspark.sql import SparkSession\n",
        "from pyspark.sql.functions import avg, round\n",
        "import time\n",
        "\n",
        "# Create a SparkSession\n",
        "spark = SparkSession.builder.appName(\"ViewRating\").getOrCreate()\n",
        "\n",
        "# Create a temporary view for the DataFrame\n",
        "df.createOrReplaceTempView(\"home_sales_view\")\n",
        "\n",
        "# Cache the temporary table\n",
        "spark.catalog.cacheTable(\"home_sales_view\")\n",
        "\n",
        "# Measure the start time of the query execution\n",
        "start_time_cached = time.time()\n",
        "\n",
        "# SQL query to calculate average price for homes greater than or equal to $350,000 using the cached data\n",
        "query_cached = \"\"\"\n",
        "SELECT ROUND(AVG(price), 2) as average_price\n",
        "FROM home_sales_view\n",
        "WHERE price >= 350000\n",
        "\"\"\"\n",
        "\n",
        "# Execute the query and store the result in a new DataFrame\n",
        "result_df_cached = spark.sql(query_cached)\n",
        "\n",
        "# Extract the \"average_price\" value from the DataFrame result\n",
        "view_rating_cached = float(result_df_cached.collect()[0][\"average_price\"])\n",
        "\n",
        "# Measure the end time of the query execution\n",
        "end_time_cached = time.time()\n",
        "\n",
        "# Show the \"view\" rating for the average price (rounded to two decimal places) using cached data\n",
        "print(\"View Rating for Average Price (rounded to two decimal places) with cached data: {:.2f}\".format(view_rating_cached))\n",
        "\n",
        "# Calculate and display the runtime of the query using cached data\n",
        "runtime_cached = end_time_cached - start_time_cached\n",
        "print(\"Query Runtime with cached data:\", runtime_cached, \"seconds\")\n",
        "\n",
        "# Measure the start time of the query execution without using cached data\n",
        "start_time_uncached = time.time()\n",
        "\n",
        "# SQL query to calculate average price for homes greater than or equal to $350,000 without using cached data\n",
        "query_uncached = \"\"\"\n",
        "SELECT ROUND(AVG(price), 2) as average_price\n",
        "FROM home_sales_view\n",
        "WHERE price >= 350000\n",
        "\"\"\"\n",
        "\n",
        "# Execute the query and store the result in a new DataFrame\n",
        "result_df_uncached = spark.sql(query_uncached)\n",
        "\n",
        "# Extract the \"average_price\" value from the DataFrame result\n",
        "view_rating_uncached = float(result_df_uncached.collect()[0][\"average_price\"])\n",
        "\n",
        "# Measure the end time of the query execution without using cached data\n",
        "end_time_uncached = time.time()\n",
        "\n",
        "# Show the \"view\" rating for the average price (rounded to two decimal places) without using cached data\n",
        "print(\"View Rating for Average Price (rounded to two decimal places) without cached data: {:.2f}\".format(view_rating_uncached))\n",
        "\n",
        "# Calculate and display the runtime of the query without using cached data\n",
        "runtime_uncached = end_time_uncached - start_time_uncached\n",
        "print(\"Query Runtime without cached data:\", runtime_uncached, \"seconds\")\n",
        "\n"
      ]
    },
    {
      "cell_type": "code",
      "execution_count": 14,
      "metadata": {
        "id": "Qm12WN9isHBR"
      },
      "outputs": [],
      "source": [
        "# 10. Partition by the \"date_built\" field on the formatted parquet home sales data\n",
        "# Assuming you have the DataFrame 'df' created and formatted as Parquet from the previous code\n",
        "\n",
        "# Write the DataFrame to Parquet format and partition by the \"date_built\" field\n",
        "df.write.partitionBy(\"date_built\").parquet(\"/path/to/parquet_output\")\n"
      ]
    },
    {
      "cell_type": "code",
      "execution_count": 15,
      "metadata": {
        "colab": {
          "base_uri": "https://localhost:8080/"
        },
        "id": "AZ7BgY61sRqY",
        "outputId": "c5a97b73-35f1-4cae-eaf7-90ae1b0f5eb8"
      },
      "outputs": [
        {
          "name": "stdout",
          "output_type": "stream",
          "text": [
            "+--------------------+----------+------+--------+---------+-----------+--------+------+----------+----+----------+\n",
            "|                  id|      date| price|bedrooms|bathrooms|sqft_living|sqft_lot|floors|waterfront|view|date_built|\n",
            "+--------------------+----------+------+--------+---------+-----------+--------+------+----------+----+----------+\n",
            "|2ed8d509-7372-46d...|2021-08-06|258710|       3|        3|       1918|    9666|     1|         0|  25|      2015|\n",
            "|941bad30-eb49-4a7...|2020-05-09|229896|       3|        3|       2197|    8641|     1|         0|   3|      2015|\n",
            "|c797ca12-52cd-4b1...|2019-06-08|288650|       2|        3|       2100|   10419|     2|         0|   7|      2015|\n",
            "|0cfe57f3-28c2-472...|2019-10-04|308313|       3|        3|       1960|    9453|     2|         0|   2|      2015|\n",
            "|d715f295-2fbf-4e9...|2021-05-17|391574|       3|        2|       1635|    8040|     2|         0|  10|      2015|\n",
            "|a18515a2-86f3-46b...|2022-02-18|419543|       3|        2|       1642|   12826|     2|         0|  24|      2015|\n",
            "|98f6a9ad-8870-474...|2022-05-07|136752|       2|        3|       1701|   10771|     2|         0|   5|      2015|\n",
            "|7ac67498-b6f3-403...|2021-05-12|349318|       4|        3|       2417|   11304|     2|         0|  37|      2015|\n",
            "|c9bfdb1c-2499-4e3...|2021-12-07|268874|       2|        2|       1537|   12177|     1|         0|  10|      2015|\n",
            "|34c31a34-220d-469...|2019-02-06|409011|       3|        3|       2356|   10507|     1|         0|   1|      2015|\n",
            "|be0ccb95-415d-411...|2020-05-15|425154|       4|        3|       2120|   14229|     2|         0|   4|      2015|\n",
            "|e9031a86-1294-444...|2021-10-09|222322|       4|        3|       1928|   10510|     1|         0|  38|      2015|\n",
            "|e6d7c2a7-596e-4ec...|2019-03-15|131201|       4|        3|       1633|   14655|     1|         0|  22|      2015|\n",
            "|6683714b-3df7-454...|2022-02-01|333403|       4|        2|       2059|    9793|     2|         0|   4|      2015|\n",
            "|00fc996f-508c-430...|2021-07-15|373139|       3|        3|       1763|   11363|     1|         0|  39|      2015|\n",
            "|3d5545f8-bd3b-476...|2020-09-19|797862|       4|        6|       3494|   10385|     2|         0|  90|      2015|\n",
            "|ec6d357c-2435-43e...|2019-05-28|401792|       3|        2|       1627|   10765|     1|         0|  50|      2015|\n",
            "|c2be38fb-814a-403...|2020-03-20|352237|       3|        3|       2485|   10954|     2|         0|   6|      2015|\n",
            "|9570de1f-5a74-45b...|2021-11-29|298453|       3|        2|       2222|   10634|     1|         0|   6|      2015|\n",
            "|1baeff4f-fc00-489...|2020-12-17|152775|       3|        2|       1623|   13851|     1|         0|  41|      2015|\n",
            "+--------------------+----------+------+--------+---------+-----------+--------+------+----------+----+----------+\n",
            "only showing top 20 rows\n",
            "\n"
          ]
        }
      ],
      "source": [
        "# 11. Read the formatted parquet data.\n",
        "from pyspark.sql import SparkSession\n",
        "\n",
        "# Create a SparkSession\n",
        "spark = SparkSession.builder.appName(\"ReadParquetData\").getOrCreate()\n",
        "\n",
        "# Read the Parquet data with partitions\n",
        "parquet_data = spark.read.format(\"parquet\").load(\"/path/to/parquet_output\")\n",
        "\n",
        "# Show the data\n",
        "parquet_data.show()\n"
      ]
    },
    {
      "cell_type": "code",
      "execution_count": 16,
      "metadata": {
        "id": "J6MJkHfvVcvh"
      },
      "outputs": [],
      "source": [
        "# 12. Create a temporary table for the parquet data\n",
        "\n",
        "parquet_data.createOrReplaceTempView(\"parquet_data_view\")\n"
      ]
    },
    {
      "cell_type": "code",
      "execution_count": 17,
      "metadata": {
        "colab": {
          "base_uri": "https://localhost:8080/"
        },
        "id": "G_Vhb52rU1Sn",
        "outputId": "9eccdf37-3a6b-4e8b-b41a-0b9b589b3ca3"
      },
      "outputs": [
        {
          "name": "stdout",
          "output_type": "stream",
          "text": [
            "View Rating for Average Price (rounded to two decimal places) without cached data: 473796.26\n",
            "Query Runtime without cached data: 0.48806285858154297 seconds\n"
          ]
        }
      ],
      "source": [
        "# 13. Run the query that filters out the view ratings with average price of greater than or eqaul to $350,000\n",
        "# with the parquet DataFrame. Round your average to two decimal places.\n",
        "# Determine the runtime and compare it to the cached version.\n",
        "\n",
        "# start_time = time.time()\n",
        "\n",
        "\n",
        "\n",
        "# print(\"--- %s seconds ---\" % (time.time() - start_time))\n",
        "\n",
        "\n",
        "\n",
        "\n",
        "\n",
        "# Assuming you have the DataFrame 'parquet_data' created from the previous code\n",
        "\n",
        "# Register the DataFrame as a temporary view\n",
        "parquet_data.createOrReplaceTempView(\"parquet_data_view\")\n",
        "\n",
        "# Measure the start time of the query execution\n",
        "start_time_uncached = time.time()\n",
        "\n",
        "# SQL query to calculate the average price for homes greater than or equal to $350,000\n",
        "query_uncached = \"\"\"\n",
        "SELECT ROUND(AVG(price), 2) as average_price\n",
        "FROM parquet_data_view\n",
        "WHERE price >= 350000\n",
        "\"\"\"\n",
        "\n",
        "# Execute the query and store the result in a new DataFrame\n",
        "result_df_uncached = spark.sql(query_uncached)\n",
        "\n",
        "# Extract the \"average_price\" value from the DataFrame result\n",
        "view_rating_uncached = float(result_df_uncached.collect()[0][\"average_price\"])\n",
        "\n",
        "# Measure the end time of the query execution\n",
        "end_time_uncached = time.time()\n",
        "\n",
        "# Show the \"view\" rating for the average price (rounded to two decimal places) without using cached data\n",
        "print(\"View Rating for Average Price (rounded to two decimal places) without cached data: {:.2f}\".format(view_rating_uncached))\n",
        "\n",
        "# Calculate and display the runtime of the query without using cached data\n",
        "runtime_uncached = end_time_uncached - start_time_uncached\n",
        "print(\"Query Runtime without cached data:\", runtime_uncached, \"seconds\")\n"
      ]
    },
    {
      "cell_type": "code",
      "execution_count": 18,
      "metadata": {
        "colab": {
          "base_uri": "https://localhost:8080/"
        },
        "id": "hjjYzQGjtbq8",
        "outputId": "be899f67-8624-49ce-ec84-8a8f6f59b466"
      },
      "outputs": [
        {
          "name": "stdout",
          "output_type": "stream",
          "text": [
            "Is 'home_sales' cached? False\n"
          ]
        }
      ],
      "source": [
        "# 14. Uncache the home_sales temporary table.\n",
        "\n",
        "# Assuming you have the DataFrame 'df' created and cached as the DataFrame \"home_sales\"\n",
        "\n",
        "# Unpersist the cached DataFrame\n",
        "df.unpersist()\n",
        "\n",
        "# Check if the table is still cached (should return False)\n",
        "is_cached = df.is_cached\n",
        "print(\"Is 'home_sales' cached?\", is_cached)\n",
        "\n",
        "\n"
      ]
    },
    {
      "cell_type": "code",
      "execution_count": 19,
      "metadata": {
        "colab": {
          "base_uri": "https://localhost:8080/"
        },
        "id": "Sy9NBvO7tlmm",
        "outputId": "bb2f8df7-375c-4e9f-ebf3-ddc926b7af27"
      },
      "outputs": [
        {
          "name": "stdout",
          "output_type": "stream",
          "text": [
            "DataFrame 'home_sales' is no longer cached.\n"
          ]
        }
      ],
      "source": [
        "# 15. Check if the home_sales is no longer cached\n",
        "\n",
        "# Assuming you have the DataFrame 'df' created and cached as the DataFrame \"home_sales\"\n",
        "\n",
        "# Assuming you have the DataFrame 'df' created and cached as the DataFrame \"home_sales\"\n",
        "\n",
        "# Unpersist the cached DataFrame\n",
        "df.unpersist()\n",
        "\n",
        "# Check if the DataFrame is still cached\n",
        "is_cached = df.is_cached\n",
        "\n",
        "if not is_cached:\n",
        "    print(\"DataFrame 'home_sales' is no longer cached.\")\n",
        "else:\n",
        "    print(\"DataFrame 'home_sales' is still cached.\")\n",
        "\n",
        "\n"
      ]
    },
    {
      "cell_type": "code",
      "execution_count": 19,
      "metadata": {
        "id": "7z9YYnUw0CeQ"
      },
      "outputs": [],
      "source": []
    }
  ],
  "metadata": {
    "colab": {
      "provenance": []
    },
    "kernelspec": {
      "display_name": "Python 3 (ipykernel)",
      "language": "python",
      "name": "python3"
    },
    "language_info": {
      "codemirror_mode": {
        "name": "ipython",
        "version": 3
      },
      "file_extension": ".py",
      "mimetype": "text/x-python",
      "name": "python",
      "nbconvert_exporter": "python",
      "pygments_lexer": "ipython3",
      "version": "3.10.4"
    },
    "nteract": {
      "version": "0.28.0"
    }
  },
  "nbformat": 4,
  "nbformat_minor": 0
}
